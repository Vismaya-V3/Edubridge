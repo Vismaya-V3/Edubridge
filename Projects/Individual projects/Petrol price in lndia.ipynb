{
 "cells": [
  {
   "cell_type": "code",
   "execution_count": 1,
   "id": "5fc1edf8",
   "metadata": {},
   "outputs": [],
   "source": [
    "import pandas as pd\n",
    "import numpy as np\n",
    "import matplotlib.pyplot as plt\n",
    "import seaborn as sns\n",
    "import warnings\n",
    "warnings.filterwarnings('ignore')"
   ]
  },
  {
   "cell_type": "markdown",
   "id": "cd54a5e0",
   "metadata": {},
   "source": [
    "# Read data"
   ]
  },
  {
   "cell_type": "code",
   "execution_count": 2,
   "id": "60ef2ab3",
   "metadata": {},
   "outputs": [],
   "source": [
    "p=pd.read_csv(r'C:\\Users\\vismaya\\Desktop\\PetrolPriceIndia.csv')"
   ]
  },
  {
   "cell_type": "code",
   "execution_count": 3,
   "id": "5cb165c6",
   "metadata": {},
   "outputs": [
    {
     "data": {
      "text/html": [
       "<div>\n",
       "<style scoped>\n",
       "    .dataframe tbody tr th:only-of-type {\n",
       "        vertical-align: middle;\n",
       "    }\n",
       "\n",
       "    .dataframe tbody tr th {\n",
       "        vertical-align: top;\n",
       "    }\n",
       "\n",
       "    .dataframe thead th {\n",
       "        text-align: right;\n",
       "    }\n",
       "</style>\n",
       "<table border=\"1\" class=\"dataframe\">\n",
       "  <thead>\n",
       "    <tr style=\"text-align: right;\">\n",
       "      <th></th>\n",
       "      <th>Month-Year</th>\n",
       "      <th>Opening</th>\n",
       "      <th>Closing</th>\n",
       "      <th>Lowest</th>\n",
       "      <th>Highest</th>\n",
       "    </tr>\n",
       "  </thead>\n",
       "  <tbody>\n",
       "    <tr>\n",
       "      <th>0</th>\n",
       "      <td>Jan-18</td>\n",
       "      <td>72.53</td>\n",
       "      <td>75.630</td>\n",
       "      <td>72.53</td>\n",
       "      <td>75.630</td>\n",
       "    </tr>\n",
       "    <tr>\n",
       "      <th>1</th>\n",
       "      <td>Feb-18</td>\n",
       "      <td>75.77</td>\n",
       "      <td>74.150</td>\n",
       "      <td>74.14</td>\n",
       "      <td>76.120</td>\n",
       "    </tr>\n",
       "    <tr>\n",
       "      <th>2</th>\n",
       "      <td>Mar-18</td>\n",
       "      <td>74.21</td>\n",
       "      <td>76.290</td>\n",
       "      <td>74.21</td>\n",
       "      <td>76.290</td>\n",
       "    </tr>\n",
       "    <tr>\n",
       "      <th>3</th>\n",
       "      <td>Apr-18</td>\n",
       "      <td>76.48</td>\n",
       "      <td>77.430</td>\n",
       "      <td>76.48</td>\n",
       "      <td>77.470</td>\n",
       "    </tr>\n",
       "    <tr>\n",
       "      <th>4</th>\n",
       "      <td>May-18</td>\n",
       "      <td>77.43</td>\n",
       "      <td>81.390</td>\n",
       "      <td>77.43</td>\n",
       "      <td>81.470</td>\n",
       "    </tr>\n",
       "    <tr>\n",
       "      <th>5</th>\n",
       "      <td>Jun-18</td>\n",
       "      <td>81.32</td>\n",
       "      <td>78.400</td>\n",
       "      <td>78.40</td>\n",
       "      <td>81.320</td>\n",
       "    </tr>\n",
       "    <tr>\n",
       "      <th>6</th>\n",
       "      <td>Jul-18</td>\n",
       "      <td>78.40</td>\n",
       "      <td>79.310</td>\n",
       "      <td>78.40</td>\n",
       "      <td>79.800</td>\n",
       "    </tr>\n",
       "    <tr>\n",
       "      <th>7</th>\n",
       "      <td>Aug-18</td>\n",
       "      <td>79.26</td>\n",
       "      <td>81.630</td>\n",
       "      <td>79.26</td>\n",
       "      <td>81.630</td>\n",
       "    </tr>\n",
       "    <tr>\n",
       "      <th>8</th>\n",
       "      <td>Sep-18</td>\n",
       "      <td>81.81</td>\n",
       "      <td>86.800</td>\n",
       "      <td>81.81</td>\n",
       "      <td>86.800</td>\n",
       "    </tr>\n",
       "    <tr>\n",
       "      <th>9</th>\n",
       "      <td>Oct-18</td>\n",
       "      <td>87.13</td>\n",
       "      <td>82.700</td>\n",
       "      <td>82.70</td>\n",
       "      <td>87.390</td>\n",
       "    </tr>\n",
       "    <tr>\n",
       "      <th>10</th>\n",
       "      <td>Nov-18</td>\n",
       "      <td>82.51</td>\n",
       "      <td>75.710</td>\n",
       "      <td>75.71</td>\n",
       "      <td>82.510</td>\n",
       "    </tr>\n",
       "    <tr>\n",
       "      <th>11</th>\n",
       "      <td>Dec-18</td>\n",
       "      <td>75.34</td>\n",
       "      <td>71.380</td>\n",
       "      <td>71.38</td>\n",
       "      <td>75.340</td>\n",
       "    </tr>\n",
       "    <tr>\n",
       "      <th>12</th>\n",
       "      <td>Jan-19</td>\n",
       "      <td>71.38</td>\n",
       "      <td>73.840</td>\n",
       "      <td>71.05</td>\n",
       "      <td>74.030</td>\n",
       "    </tr>\n",
       "    <tr>\n",
       "      <th>13</th>\n",
       "      <td>Feb-19</td>\n",
       "      <td>73.59</td>\n",
       "      <td>74.430</td>\n",
       "      <td>72.94</td>\n",
       "      <td>74.430</td>\n",
       "    </tr>\n",
       "    <tr>\n",
       "      <th>14</th>\n",
       "      <td>Mar-19</td>\n",
       "      <td>74.54</td>\n",
       "      <td>75.590</td>\n",
       "      <td>74.54</td>\n",
       "      <td>75.650</td>\n",
       "    </tr>\n",
       "    <tr>\n",
       "      <th>15</th>\n",
       "      <td>Apr-19</td>\n",
       "      <td>75.67</td>\n",
       "      <td>75.960</td>\n",
       "      <td>75.61</td>\n",
       "      <td>75.960</td>\n",
       "    </tr>\n",
       "    <tr>\n",
       "      <th>16</th>\n",
       "      <td>May-19</td>\n",
       "      <td>75.89</td>\n",
       "      <td>74.430</td>\n",
       "      <td>73.69</td>\n",
       "      <td>75.900</td>\n",
       "    </tr>\n",
       "    <tr>\n",
       "      <th>17</th>\n",
       "      <td>Jun-19</td>\n",
       "      <td>74.39</td>\n",
       "      <td>73.030</td>\n",
       "      <td>72.61</td>\n",
       "      <td>74.390</td>\n",
       "    </tr>\n",
       "    <tr>\n",
       "      <th>18</th>\n",
       "      <td>Jul-19</td>\n",
       "      <td>73.18</td>\n",
       "      <td>76.010</td>\n",
       "      <td>73.18</td>\n",
       "      <td>76.290</td>\n",
       "    </tr>\n",
       "    <tr>\n",
       "      <th>19</th>\n",
       "      <td>Aug-19</td>\n",
       "      <td>75.65</td>\n",
       "      <td>74.770</td>\n",
       "      <td>74.59</td>\n",
       "      <td>75.650</td>\n",
       "    </tr>\n",
       "    <tr>\n",
       "      <th>20</th>\n",
       "      <td>Sep-19</td>\n",
       "      <td>74.74</td>\n",
       "      <td>77.340</td>\n",
       "      <td>74.55</td>\n",
       "      <td>77.340</td>\n",
       "    </tr>\n",
       "    <tr>\n",
       "      <th>21</th>\n",
       "      <td>Oct-19</td>\n",
       "      <td>77.56</td>\n",
       "      <td>75.780</td>\n",
       "      <td>75.78</td>\n",
       "      <td>77.560</td>\n",
       "    </tr>\n",
       "    <tr>\n",
       "      <th>22</th>\n",
       "      <td>Nov-19</td>\n",
       "      <td>75.66</td>\n",
       "      <td>77.763</td>\n",
       "      <td>75.39</td>\n",
       "      <td>77.763</td>\n",
       "    </tr>\n",
       "    <tr>\n",
       "      <th>23</th>\n",
       "      <td>Dec-19</td>\n",
       "      <td>77.89</td>\n",
       "      <td>78.100</td>\n",
       "      <td>77.56</td>\n",
       "      <td>78.100</td>\n",
       "    </tr>\n",
       "    <tr>\n",
       "      <th>24</th>\n",
       "      <td>Jan-20</td>\n",
       "      <td>78.10</td>\n",
       "      <td>76.150</td>\n",
       "      <td>76.15</td>\n",
       "      <td>79.040</td>\n",
       "    </tr>\n",
       "    <tr>\n",
       "      <th>25</th>\n",
       "      <td>Feb-20</td>\n",
       "      <td>76.01</td>\n",
       "      <td>74.640</td>\n",
       "      <td>74.64</td>\n",
       "      <td>76.010</td>\n",
       "    </tr>\n",
       "    <tr>\n",
       "      <th>26</th>\n",
       "      <td>Mar-20</td>\n",
       "      <td>74.79</td>\n",
       "      <td>72.260</td>\n",
       "      <td>72.26</td>\n",
       "      <td>74.790</td>\n",
       "    </tr>\n",
       "    <tr>\n",
       "      <th>27</th>\n",
       "      <td>Apr-20</td>\n",
       "      <td>72.26</td>\n",
       "      <td>72.280</td>\n",
       "      <td>72.26</td>\n",
       "      <td>72.370</td>\n",
       "    </tr>\n",
       "    <tr>\n",
       "      <th>28</th>\n",
       "      <td>May-20</td>\n",
       "      <td>72.28</td>\n",
       "      <td>75.520</td>\n",
       "      <td>72.28</td>\n",
       "      <td>75.780</td>\n",
       "    </tr>\n",
       "    <tr>\n",
       "      <th>29</th>\n",
       "      <td>Jun-20</td>\n",
       "      <td>75.52</td>\n",
       "      <td>83.630</td>\n",
       "      <td>75.52</td>\n",
       "      <td>83.630</td>\n",
       "    </tr>\n",
       "    <tr>\n",
       "      <th>30</th>\n",
       "      <td>Jul-20</td>\n",
       "      <td>83.63</td>\n",
       "      <td>83.630</td>\n",
       "      <td>83.62</td>\n",
       "      <td>83.670</td>\n",
       "    </tr>\n",
       "    <tr>\n",
       "      <th>31</th>\n",
       "      <td>Aug-20</td>\n",
       "      <td>83.62</td>\n",
       "      <td>85.050</td>\n",
       "      <td>83.62</td>\n",
       "      <td>85.050</td>\n",
       "    </tr>\n",
       "    <tr>\n",
       "      <th>32</th>\n",
       "      <td>Sep-20</td>\n",
       "      <td>85.09</td>\n",
       "      <td>84.140</td>\n",
       "      <td>84.14</td>\n",
       "      <td>85.090</td>\n",
       "    </tr>\n",
       "    <tr>\n",
       "      <th>33</th>\n",
       "      <td>Oct-20</td>\n",
       "      <td>84.14</td>\n",
       "      <td>84.140</td>\n",
       "      <td>84.14</td>\n",
       "      <td>84.190</td>\n",
       "    </tr>\n",
       "    <tr>\n",
       "      <th>34</th>\n",
       "      <td>Nov-20</td>\n",
       "      <td>84.41</td>\n",
       "      <td>85.310</td>\n",
       "      <td>84.14</td>\n",
       "      <td>85.310</td>\n",
       "    </tr>\n",
       "    <tr>\n",
       "      <th>35</th>\n",
       "      <td>Dec-20</td>\n",
       "      <td>85.31</td>\n",
       "      <td>86.480</td>\n",
       "      <td>85.31</td>\n",
       "      <td>86.510</td>\n",
       "    </tr>\n",
       "  </tbody>\n",
       "</table>\n",
       "</div>"
      ],
      "text/plain": [
       "   Month-Year  Opening  Closing  Lowest  Highest\n",
       "0      Jan-18    72.53   75.630   72.53   75.630\n",
       "1      Feb-18    75.77   74.150   74.14   76.120\n",
       "2      Mar-18    74.21   76.290   74.21   76.290\n",
       "3      Apr-18    76.48   77.430   76.48   77.470\n",
       "4      May-18    77.43   81.390   77.43   81.470\n",
       "5      Jun-18    81.32   78.400   78.40   81.320\n",
       "6      Jul-18    78.40   79.310   78.40   79.800\n",
       "7      Aug-18    79.26   81.630   79.26   81.630\n",
       "8      Sep-18    81.81   86.800   81.81   86.800\n",
       "9      Oct-18    87.13   82.700   82.70   87.390\n",
       "10     Nov-18    82.51   75.710   75.71   82.510\n",
       "11     Dec-18    75.34   71.380   71.38   75.340\n",
       "12     Jan-19    71.38   73.840   71.05   74.030\n",
       "13     Feb-19    73.59   74.430   72.94   74.430\n",
       "14     Mar-19    74.54   75.590   74.54   75.650\n",
       "15     Apr-19    75.67   75.960   75.61   75.960\n",
       "16     May-19    75.89   74.430   73.69   75.900\n",
       "17     Jun-19    74.39   73.030   72.61   74.390\n",
       "18     Jul-19    73.18   76.010   73.18   76.290\n",
       "19     Aug-19    75.65   74.770   74.59   75.650\n",
       "20     Sep-19    74.74   77.340   74.55   77.340\n",
       "21     Oct-19    77.56   75.780   75.78   77.560\n",
       "22     Nov-19    75.66   77.763   75.39   77.763\n",
       "23     Dec-19    77.89   78.100   77.56   78.100\n",
       "24     Jan-20    78.10   76.150   76.15   79.040\n",
       "25     Feb-20    76.01   74.640   74.64   76.010\n",
       "26     Mar-20    74.79   72.260   72.26   74.790\n",
       "27     Apr-20    72.26   72.280   72.26   72.370\n",
       "28     May-20    72.28   75.520   72.28   75.780\n",
       "29     Jun-20    75.52   83.630   75.52   83.630\n",
       "30     Jul-20    83.63   83.630   83.62   83.670\n",
       "31     Aug-20    83.62   85.050   83.62   85.050\n",
       "32     Sep-20    85.09   84.140   84.14   85.090\n",
       "33     Oct-20    84.14   84.140   84.14   84.190\n",
       "34     Nov-20    84.41   85.310   84.14   85.310\n",
       "35     Dec-20    85.31   86.480   85.31   86.510"
      ]
     },
     "execution_count": 3,
     "metadata": {},
     "output_type": "execute_result"
    }
   ],
   "source": [
    "p"
   ]
  },
  {
   "cell_type": "markdown",
   "id": "e3878820",
   "metadata": {},
   "source": [
    "# drop the columns"
   ]
  },
  {
   "cell_type": "code",
   "execution_count": 4,
   "id": "f3f3f586",
   "metadata": {},
   "outputs": [
    {
     "data": {
      "text/html": [
       "<div>\n",
       "<style scoped>\n",
       "    .dataframe tbody tr th:only-of-type {\n",
       "        vertical-align: middle;\n",
       "    }\n",
       "\n",
       "    .dataframe tbody tr th {\n",
       "        vertical-align: top;\n",
       "    }\n",
       "\n",
       "    .dataframe thead th {\n",
       "        text-align: right;\n",
       "    }\n",
       "</style>\n",
       "<table border=\"1\" class=\"dataframe\">\n",
       "  <thead>\n",
       "    <tr style=\"text-align: right;\">\n",
       "      <th></th>\n",
       "      <th>Month-Year</th>\n",
       "      <th>Lowest</th>\n",
       "      <th>Highest</th>\n",
       "    </tr>\n",
       "  </thead>\n",
       "  <tbody>\n",
       "    <tr>\n",
       "      <th>0</th>\n",
       "      <td>Jan-18</td>\n",
       "      <td>72.53</td>\n",
       "      <td>75.630</td>\n",
       "    </tr>\n",
       "    <tr>\n",
       "      <th>1</th>\n",
       "      <td>Feb-18</td>\n",
       "      <td>74.14</td>\n",
       "      <td>76.120</td>\n",
       "    </tr>\n",
       "    <tr>\n",
       "      <th>2</th>\n",
       "      <td>Mar-18</td>\n",
       "      <td>74.21</td>\n",
       "      <td>76.290</td>\n",
       "    </tr>\n",
       "    <tr>\n",
       "      <th>3</th>\n",
       "      <td>Apr-18</td>\n",
       "      <td>76.48</td>\n",
       "      <td>77.470</td>\n",
       "    </tr>\n",
       "    <tr>\n",
       "      <th>4</th>\n",
       "      <td>May-18</td>\n",
       "      <td>77.43</td>\n",
       "      <td>81.470</td>\n",
       "    </tr>\n",
       "    <tr>\n",
       "      <th>5</th>\n",
       "      <td>Jun-18</td>\n",
       "      <td>78.40</td>\n",
       "      <td>81.320</td>\n",
       "    </tr>\n",
       "    <tr>\n",
       "      <th>6</th>\n",
       "      <td>Jul-18</td>\n",
       "      <td>78.40</td>\n",
       "      <td>79.800</td>\n",
       "    </tr>\n",
       "    <tr>\n",
       "      <th>7</th>\n",
       "      <td>Aug-18</td>\n",
       "      <td>79.26</td>\n",
       "      <td>81.630</td>\n",
       "    </tr>\n",
       "    <tr>\n",
       "      <th>8</th>\n",
       "      <td>Sep-18</td>\n",
       "      <td>81.81</td>\n",
       "      <td>86.800</td>\n",
       "    </tr>\n",
       "    <tr>\n",
       "      <th>9</th>\n",
       "      <td>Oct-18</td>\n",
       "      <td>82.70</td>\n",
       "      <td>87.390</td>\n",
       "    </tr>\n",
       "    <tr>\n",
       "      <th>10</th>\n",
       "      <td>Nov-18</td>\n",
       "      <td>75.71</td>\n",
       "      <td>82.510</td>\n",
       "    </tr>\n",
       "    <tr>\n",
       "      <th>11</th>\n",
       "      <td>Dec-18</td>\n",
       "      <td>71.38</td>\n",
       "      <td>75.340</td>\n",
       "    </tr>\n",
       "    <tr>\n",
       "      <th>12</th>\n",
       "      <td>Jan-19</td>\n",
       "      <td>71.05</td>\n",
       "      <td>74.030</td>\n",
       "    </tr>\n",
       "    <tr>\n",
       "      <th>13</th>\n",
       "      <td>Feb-19</td>\n",
       "      <td>72.94</td>\n",
       "      <td>74.430</td>\n",
       "    </tr>\n",
       "    <tr>\n",
       "      <th>14</th>\n",
       "      <td>Mar-19</td>\n",
       "      <td>74.54</td>\n",
       "      <td>75.650</td>\n",
       "    </tr>\n",
       "    <tr>\n",
       "      <th>15</th>\n",
       "      <td>Apr-19</td>\n",
       "      <td>75.61</td>\n",
       "      <td>75.960</td>\n",
       "    </tr>\n",
       "    <tr>\n",
       "      <th>16</th>\n",
       "      <td>May-19</td>\n",
       "      <td>73.69</td>\n",
       "      <td>75.900</td>\n",
       "    </tr>\n",
       "    <tr>\n",
       "      <th>17</th>\n",
       "      <td>Jun-19</td>\n",
       "      <td>72.61</td>\n",
       "      <td>74.390</td>\n",
       "    </tr>\n",
       "    <tr>\n",
       "      <th>18</th>\n",
       "      <td>Jul-19</td>\n",
       "      <td>73.18</td>\n",
       "      <td>76.290</td>\n",
       "    </tr>\n",
       "    <tr>\n",
       "      <th>19</th>\n",
       "      <td>Aug-19</td>\n",
       "      <td>74.59</td>\n",
       "      <td>75.650</td>\n",
       "    </tr>\n",
       "    <tr>\n",
       "      <th>20</th>\n",
       "      <td>Sep-19</td>\n",
       "      <td>74.55</td>\n",
       "      <td>77.340</td>\n",
       "    </tr>\n",
       "    <tr>\n",
       "      <th>21</th>\n",
       "      <td>Oct-19</td>\n",
       "      <td>75.78</td>\n",
       "      <td>77.560</td>\n",
       "    </tr>\n",
       "    <tr>\n",
       "      <th>22</th>\n",
       "      <td>Nov-19</td>\n",
       "      <td>75.39</td>\n",
       "      <td>77.763</td>\n",
       "    </tr>\n",
       "    <tr>\n",
       "      <th>23</th>\n",
       "      <td>Dec-19</td>\n",
       "      <td>77.56</td>\n",
       "      <td>78.100</td>\n",
       "    </tr>\n",
       "    <tr>\n",
       "      <th>24</th>\n",
       "      <td>Jan-20</td>\n",
       "      <td>76.15</td>\n",
       "      <td>79.040</td>\n",
       "    </tr>\n",
       "    <tr>\n",
       "      <th>25</th>\n",
       "      <td>Feb-20</td>\n",
       "      <td>74.64</td>\n",
       "      <td>76.010</td>\n",
       "    </tr>\n",
       "    <tr>\n",
       "      <th>26</th>\n",
       "      <td>Mar-20</td>\n",
       "      <td>72.26</td>\n",
       "      <td>74.790</td>\n",
       "    </tr>\n",
       "    <tr>\n",
       "      <th>27</th>\n",
       "      <td>Apr-20</td>\n",
       "      <td>72.26</td>\n",
       "      <td>72.370</td>\n",
       "    </tr>\n",
       "    <tr>\n",
       "      <th>28</th>\n",
       "      <td>May-20</td>\n",
       "      <td>72.28</td>\n",
       "      <td>75.780</td>\n",
       "    </tr>\n",
       "    <tr>\n",
       "      <th>29</th>\n",
       "      <td>Jun-20</td>\n",
       "      <td>75.52</td>\n",
       "      <td>83.630</td>\n",
       "    </tr>\n",
       "    <tr>\n",
       "      <th>30</th>\n",
       "      <td>Jul-20</td>\n",
       "      <td>83.62</td>\n",
       "      <td>83.670</td>\n",
       "    </tr>\n",
       "    <tr>\n",
       "      <th>31</th>\n",
       "      <td>Aug-20</td>\n",
       "      <td>83.62</td>\n",
       "      <td>85.050</td>\n",
       "    </tr>\n",
       "    <tr>\n",
       "      <th>32</th>\n",
       "      <td>Sep-20</td>\n",
       "      <td>84.14</td>\n",
       "      <td>85.090</td>\n",
       "    </tr>\n",
       "    <tr>\n",
       "      <th>33</th>\n",
       "      <td>Oct-20</td>\n",
       "      <td>84.14</td>\n",
       "      <td>84.190</td>\n",
       "    </tr>\n",
       "    <tr>\n",
       "      <th>34</th>\n",
       "      <td>Nov-20</td>\n",
       "      <td>84.14</td>\n",
       "      <td>85.310</td>\n",
       "    </tr>\n",
       "    <tr>\n",
       "      <th>35</th>\n",
       "      <td>Dec-20</td>\n",
       "      <td>85.31</td>\n",
       "      <td>86.510</td>\n",
       "    </tr>\n",
       "  </tbody>\n",
       "</table>\n",
       "</div>"
      ],
      "text/plain": [
       "   Month-Year  Lowest  Highest\n",
       "0      Jan-18   72.53   75.630\n",
       "1      Feb-18   74.14   76.120\n",
       "2      Mar-18   74.21   76.290\n",
       "3      Apr-18   76.48   77.470\n",
       "4      May-18   77.43   81.470\n",
       "5      Jun-18   78.40   81.320\n",
       "6      Jul-18   78.40   79.800\n",
       "7      Aug-18   79.26   81.630\n",
       "8      Sep-18   81.81   86.800\n",
       "9      Oct-18   82.70   87.390\n",
       "10     Nov-18   75.71   82.510\n",
       "11     Dec-18   71.38   75.340\n",
       "12     Jan-19   71.05   74.030\n",
       "13     Feb-19   72.94   74.430\n",
       "14     Mar-19   74.54   75.650\n",
       "15     Apr-19   75.61   75.960\n",
       "16     May-19   73.69   75.900\n",
       "17     Jun-19   72.61   74.390\n",
       "18     Jul-19   73.18   76.290\n",
       "19     Aug-19   74.59   75.650\n",
       "20     Sep-19   74.55   77.340\n",
       "21     Oct-19   75.78   77.560\n",
       "22     Nov-19   75.39   77.763\n",
       "23     Dec-19   77.56   78.100\n",
       "24     Jan-20   76.15   79.040\n",
       "25     Feb-20   74.64   76.010\n",
       "26     Mar-20   72.26   74.790\n",
       "27     Apr-20   72.26   72.370\n",
       "28     May-20   72.28   75.780\n",
       "29     Jun-20   75.52   83.630\n",
       "30     Jul-20   83.62   83.670\n",
       "31     Aug-20   83.62   85.050\n",
       "32     Sep-20   84.14   85.090\n",
       "33     Oct-20   84.14   84.190\n",
       "34     Nov-20   84.14   85.310\n",
       "35     Dec-20   85.31   86.510"
      ]
     },
     "execution_count": 4,
     "metadata": {},
     "output_type": "execute_result"
    }
   ],
   "source": [
    "p=p.drop(['Opening','Closing'],axis=1)\n",
    "p"
   ]
  },
  {
   "cell_type": "markdown",
   "id": "cef0d6c5",
   "metadata": {},
   "source": [
    "# correlation"
   ]
  },
  {
   "cell_type": "code",
   "execution_count": 5,
   "id": "4f7302f5",
   "metadata": {},
   "outputs": [
    {
     "data": {
      "text/html": [
       "<div>\n",
       "<style scoped>\n",
       "    .dataframe tbody tr th:only-of-type {\n",
       "        vertical-align: middle;\n",
       "    }\n",
       "\n",
       "    .dataframe tbody tr th {\n",
       "        vertical-align: top;\n",
       "    }\n",
       "\n",
       "    .dataframe thead th {\n",
       "        text-align: right;\n",
       "    }\n",
       "</style>\n",
       "<table border=\"1\" class=\"dataframe\">\n",
       "  <thead>\n",
       "    <tr style=\"text-align: right;\">\n",
       "      <th></th>\n",
       "      <th>Lowest</th>\n",
       "      <th>Highest</th>\n",
       "    </tr>\n",
       "  </thead>\n",
       "  <tbody>\n",
       "    <tr>\n",
       "      <th>Lowest</th>\n",
       "      <td>1.000000</td>\n",
       "      <td>0.913376</td>\n",
       "    </tr>\n",
       "    <tr>\n",
       "      <th>Highest</th>\n",
       "      <td>0.913376</td>\n",
       "      <td>1.000000</td>\n",
       "    </tr>\n",
       "  </tbody>\n",
       "</table>\n",
       "</div>"
      ],
      "text/plain": [
       "           Lowest   Highest\n",
       "Lowest   1.000000  0.913376\n",
       "Highest  0.913376  1.000000"
      ]
     },
     "execution_count": 5,
     "metadata": {},
     "output_type": "execute_result"
    }
   ],
   "source": [
    "p.corr()"
   ]
  },
  {
   "cell_type": "markdown",
   "id": "b13aa30d",
   "metadata": {},
   "source": [
    "# Print the information of dataset"
   ]
  },
  {
   "cell_type": "code",
   "execution_count": 6,
   "id": "b20ed1e9",
   "metadata": {},
   "outputs": [
    {
     "name": "stdout",
     "output_type": "stream",
     "text": [
      "<class 'pandas.core.frame.DataFrame'>\n",
      "RangeIndex: 36 entries, 0 to 35\n",
      "Data columns (total 3 columns):\n",
      " #   Column      Non-Null Count  Dtype  \n",
      "---  ------      --------------  -----  \n",
      " 0   Month-Year  36 non-null     object \n",
      " 1   Lowest      36 non-null     float64\n",
      " 2   Highest     36 non-null     float64\n",
      "dtypes: float64(2), object(1)\n",
      "memory usage: 784.0+ bytes\n"
     ]
    }
   ],
   "source": [
    "p.info()"
   ]
  },
  {
   "cell_type": "markdown",
   "id": "c06333d2",
   "metadata": {},
   "source": [
    "# To check is there any missing data"
   ]
  },
  {
   "cell_type": "code",
   "execution_count": 7,
   "id": "700cc9b2",
   "metadata": {},
   "outputs": [
    {
     "data": {
      "text/html": [
       "<div>\n",
       "<style scoped>\n",
       "    .dataframe tbody tr th:only-of-type {\n",
       "        vertical-align: middle;\n",
       "    }\n",
       "\n",
       "    .dataframe tbody tr th {\n",
       "        vertical-align: top;\n",
       "    }\n",
       "\n",
       "    .dataframe thead th {\n",
       "        text-align: right;\n",
       "    }\n",
       "</style>\n",
       "<table border=\"1\" class=\"dataframe\">\n",
       "  <thead>\n",
       "    <tr style=\"text-align: right;\">\n",
       "      <th></th>\n",
       "      <th>Month-Year</th>\n",
       "      <th>Lowest</th>\n",
       "      <th>Highest</th>\n",
       "    </tr>\n",
       "  </thead>\n",
       "  <tbody>\n",
       "    <tr>\n",
       "      <th>0</th>\n",
       "      <td>False</td>\n",
       "      <td>False</td>\n",
       "      <td>False</td>\n",
       "    </tr>\n",
       "    <tr>\n",
       "      <th>1</th>\n",
       "      <td>False</td>\n",
       "      <td>False</td>\n",
       "      <td>False</td>\n",
       "    </tr>\n",
       "    <tr>\n",
       "      <th>2</th>\n",
       "      <td>False</td>\n",
       "      <td>False</td>\n",
       "      <td>False</td>\n",
       "    </tr>\n",
       "    <tr>\n",
       "      <th>3</th>\n",
       "      <td>False</td>\n",
       "      <td>False</td>\n",
       "      <td>False</td>\n",
       "    </tr>\n",
       "    <tr>\n",
       "      <th>4</th>\n",
       "      <td>False</td>\n",
       "      <td>False</td>\n",
       "      <td>False</td>\n",
       "    </tr>\n",
       "    <tr>\n",
       "      <th>5</th>\n",
       "      <td>False</td>\n",
       "      <td>False</td>\n",
       "      <td>False</td>\n",
       "    </tr>\n",
       "    <tr>\n",
       "      <th>6</th>\n",
       "      <td>False</td>\n",
       "      <td>False</td>\n",
       "      <td>False</td>\n",
       "    </tr>\n",
       "    <tr>\n",
       "      <th>7</th>\n",
       "      <td>False</td>\n",
       "      <td>False</td>\n",
       "      <td>False</td>\n",
       "    </tr>\n",
       "    <tr>\n",
       "      <th>8</th>\n",
       "      <td>False</td>\n",
       "      <td>False</td>\n",
       "      <td>False</td>\n",
       "    </tr>\n",
       "    <tr>\n",
       "      <th>9</th>\n",
       "      <td>False</td>\n",
       "      <td>False</td>\n",
       "      <td>False</td>\n",
       "    </tr>\n",
       "    <tr>\n",
       "      <th>10</th>\n",
       "      <td>False</td>\n",
       "      <td>False</td>\n",
       "      <td>False</td>\n",
       "    </tr>\n",
       "    <tr>\n",
       "      <th>11</th>\n",
       "      <td>False</td>\n",
       "      <td>False</td>\n",
       "      <td>False</td>\n",
       "    </tr>\n",
       "    <tr>\n",
       "      <th>12</th>\n",
       "      <td>False</td>\n",
       "      <td>False</td>\n",
       "      <td>False</td>\n",
       "    </tr>\n",
       "    <tr>\n",
       "      <th>13</th>\n",
       "      <td>False</td>\n",
       "      <td>False</td>\n",
       "      <td>False</td>\n",
       "    </tr>\n",
       "    <tr>\n",
       "      <th>14</th>\n",
       "      <td>False</td>\n",
       "      <td>False</td>\n",
       "      <td>False</td>\n",
       "    </tr>\n",
       "    <tr>\n",
       "      <th>15</th>\n",
       "      <td>False</td>\n",
       "      <td>False</td>\n",
       "      <td>False</td>\n",
       "    </tr>\n",
       "    <tr>\n",
       "      <th>16</th>\n",
       "      <td>False</td>\n",
       "      <td>False</td>\n",
       "      <td>False</td>\n",
       "    </tr>\n",
       "    <tr>\n",
       "      <th>17</th>\n",
       "      <td>False</td>\n",
       "      <td>False</td>\n",
       "      <td>False</td>\n",
       "    </tr>\n",
       "    <tr>\n",
       "      <th>18</th>\n",
       "      <td>False</td>\n",
       "      <td>False</td>\n",
       "      <td>False</td>\n",
       "    </tr>\n",
       "    <tr>\n",
       "      <th>19</th>\n",
       "      <td>False</td>\n",
       "      <td>False</td>\n",
       "      <td>False</td>\n",
       "    </tr>\n",
       "    <tr>\n",
       "      <th>20</th>\n",
       "      <td>False</td>\n",
       "      <td>False</td>\n",
       "      <td>False</td>\n",
       "    </tr>\n",
       "    <tr>\n",
       "      <th>21</th>\n",
       "      <td>False</td>\n",
       "      <td>False</td>\n",
       "      <td>False</td>\n",
       "    </tr>\n",
       "    <tr>\n",
       "      <th>22</th>\n",
       "      <td>False</td>\n",
       "      <td>False</td>\n",
       "      <td>False</td>\n",
       "    </tr>\n",
       "    <tr>\n",
       "      <th>23</th>\n",
       "      <td>False</td>\n",
       "      <td>False</td>\n",
       "      <td>False</td>\n",
       "    </tr>\n",
       "    <tr>\n",
       "      <th>24</th>\n",
       "      <td>False</td>\n",
       "      <td>False</td>\n",
       "      <td>False</td>\n",
       "    </tr>\n",
       "    <tr>\n",
       "      <th>25</th>\n",
       "      <td>False</td>\n",
       "      <td>False</td>\n",
       "      <td>False</td>\n",
       "    </tr>\n",
       "    <tr>\n",
       "      <th>26</th>\n",
       "      <td>False</td>\n",
       "      <td>False</td>\n",
       "      <td>False</td>\n",
       "    </tr>\n",
       "    <tr>\n",
       "      <th>27</th>\n",
       "      <td>False</td>\n",
       "      <td>False</td>\n",
       "      <td>False</td>\n",
       "    </tr>\n",
       "    <tr>\n",
       "      <th>28</th>\n",
       "      <td>False</td>\n",
       "      <td>False</td>\n",
       "      <td>False</td>\n",
       "    </tr>\n",
       "    <tr>\n",
       "      <th>29</th>\n",
       "      <td>False</td>\n",
       "      <td>False</td>\n",
       "      <td>False</td>\n",
       "    </tr>\n",
       "    <tr>\n",
       "      <th>30</th>\n",
       "      <td>False</td>\n",
       "      <td>False</td>\n",
       "      <td>False</td>\n",
       "    </tr>\n",
       "    <tr>\n",
       "      <th>31</th>\n",
       "      <td>False</td>\n",
       "      <td>False</td>\n",
       "      <td>False</td>\n",
       "    </tr>\n",
       "    <tr>\n",
       "      <th>32</th>\n",
       "      <td>False</td>\n",
       "      <td>False</td>\n",
       "      <td>False</td>\n",
       "    </tr>\n",
       "    <tr>\n",
       "      <th>33</th>\n",
       "      <td>False</td>\n",
       "      <td>False</td>\n",
       "      <td>False</td>\n",
       "    </tr>\n",
       "    <tr>\n",
       "      <th>34</th>\n",
       "      <td>False</td>\n",
       "      <td>False</td>\n",
       "      <td>False</td>\n",
       "    </tr>\n",
       "    <tr>\n",
       "      <th>35</th>\n",
       "      <td>False</td>\n",
       "      <td>False</td>\n",
       "      <td>False</td>\n",
       "    </tr>\n",
       "  </tbody>\n",
       "</table>\n",
       "</div>"
      ],
      "text/plain": [
       "    Month-Year  Lowest  Highest\n",
       "0        False   False    False\n",
       "1        False   False    False\n",
       "2        False   False    False\n",
       "3        False   False    False\n",
       "4        False   False    False\n",
       "5        False   False    False\n",
       "6        False   False    False\n",
       "7        False   False    False\n",
       "8        False   False    False\n",
       "9        False   False    False\n",
       "10       False   False    False\n",
       "11       False   False    False\n",
       "12       False   False    False\n",
       "13       False   False    False\n",
       "14       False   False    False\n",
       "15       False   False    False\n",
       "16       False   False    False\n",
       "17       False   False    False\n",
       "18       False   False    False\n",
       "19       False   False    False\n",
       "20       False   False    False\n",
       "21       False   False    False\n",
       "22       False   False    False\n",
       "23       False   False    False\n",
       "24       False   False    False\n",
       "25       False   False    False\n",
       "26       False   False    False\n",
       "27       False   False    False\n",
       "28       False   False    False\n",
       "29       False   False    False\n",
       "30       False   False    False\n",
       "31       False   False    False\n",
       "32       False   False    False\n",
       "33       False   False    False\n",
       "34       False   False    False\n",
       "35       False   False    False"
      ]
     },
     "execution_count": 7,
     "metadata": {},
     "output_type": "execute_result"
    }
   ],
   "source": [
    "p.isna()"
   ]
  },
  {
   "cell_type": "markdown",
   "id": "ee7bebdc",
   "metadata": {},
   "source": [
    "# Check the duplicated value"
   ]
  },
  {
   "cell_type": "code",
   "execution_count": 8,
   "id": "df9a5f78",
   "metadata": {},
   "outputs": [
    {
     "data": {
      "text/plain": [
       "0     False\n",
       "1     False\n",
       "2     False\n",
       "3     False\n",
       "4     False\n",
       "5     False\n",
       "6     False\n",
       "7     False\n",
       "8     False\n",
       "9     False\n",
       "10    False\n",
       "11    False\n",
       "12    False\n",
       "13    False\n",
       "14    False\n",
       "15    False\n",
       "16    False\n",
       "17    False\n",
       "18    False\n",
       "19    False\n",
       "20    False\n",
       "21    False\n",
       "22    False\n",
       "23    False\n",
       "24    False\n",
       "25    False\n",
       "26    False\n",
       "27    False\n",
       "28    False\n",
       "29    False\n",
       "30    False\n",
       "31    False\n",
       "32    False\n",
       "33    False\n",
       "34    False\n",
       "35    False\n",
       "dtype: bool"
      ]
     },
     "execution_count": 8,
     "metadata": {},
     "output_type": "execute_result"
    }
   ],
   "source": [
    "p.duplicated()"
   ]
  },
  {
   "cell_type": "markdown",
   "id": "aca5e23e",
   "metadata": {},
   "source": [
    "# Show the maximum rates"
   ]
  },
  {
   "cell_type": "code",
   "execution_count": 9,
   "id": "a90df7ba",
   "metadata": {},
   "outputs": [
    {
     "data": {
      "text/plain": [
       "Month-Year    Sep-20\n",
       "Lowest         85.31\n",
       "Highest        87.39\n",
       "dtype: object"
      ]
     },
     "execution_count": 9,
     "metadata": {},
     "output_type": "execute_result"
    }
   ],
   "source": [
    "p.max()"
   ]
  },
  {
   "cell_type": "markdown",
   "id": "cd82cc28",
   "metadata": {},
   "source": [
    "# Show the maximum rates"
   ]
  },
  {
   "cell_type": "code",
   "execution_count": 10,
   "id": "b0415e21",
   "metadata": {},
   "outputs": [
    {
     "data": {
      "text/plain": [
       "Month-Year    Apr-18\n",
       "Lowest         71.05\n",
       "Highest        72.37\n",
       "dtype: object"
      ]
     },
     "execution_count": 10,
     "metadata": {},
     "output_type": "execute_result"
    }
   ],
   "source": [
    "p.min()"
   ]
  },
  {
   "cell_type": "markdown",
   "id": "57038d25",
   "metadata": {},
   "source": [
    "# sorting data"
   ]
  },
  {
   "cell_type": "code",
   "execution_count": 11,
   "id": "4496e190",
   "metadata": {},
   "outputs": [
    {
     "data": {
      "text/html": [
       "<div>\n",
       "<style scoped>\n",
       "    .dataframe tbody tr th:only-of-type {\n",
       "        vertical-align: middle;\n",
       "    }\n",
       "\n",
       "    .dataframe tbody tr th {\n",
       "        vertical-align: top;\n",
       "    }\n",
       "\n",
       "    .dataframe thead th {\n",
       "        text-align: right;\n",
       "    }\n",
       "</style>\n",
       "<table border=\"1\" class=\"dataframe\">\n",
       "  <thead>\n",
       "    <tr style=\"text-align: right;\">\n",
       "      <th></th>\n",
       "      <th>Month-Year</th>\n",
       "      <th>Lowest</th>\n",
       "      <th>Highest</th>\n",
       "    </tr>\n",
       "  </thead>\n",
       "  <tbody>\n",
       "    <tr>\n",
       "      <th>9</th>\n",
       "      <td>Oct-18</td>\n",
       "      <td>82.70</td>\n",
       "      <td>87.390</td>\n",
       "    </tr>\n",
       "    <tr>\n",
       "      <th>8</th>\n",
       "      <td>Sep-18</td>\n",
       "      <td>81.81</td>\n",
       "      <td>86.800</td>\n",
       "    </tr>\n",
       "    <tr>\n",
       "      <th>35</th>\n",
       "      <td>Dec-20</td>\n",
       "      <td>85.31</td>\n",
       "      <td>86.510</td>\n",
       "    </tr>\n",
       "    <tr>\n",
       "      <th>34</th>\n",
       "      <td>Nov-20</td>\n",
       "      <td>84.14</td>\n",
       "      <td>85.310</td>\n",
       "    </tr>\n",
       "    <tr>\n",
       "      <th>32</th>\n",
       "      <td>Sep-20</td>\n",
       "      <td>84.14</td>\n",
       "      <td>85.090</td>\n",
       "    </tr>\n",
       "    <tr>\n",
       "      <th>31</th>\n",
       "      <td>Aug-20</td>\n",
       "      <td>83.62</td>\n",
       "      <td>85.050</td>\n",
       "    </tr>\n",
       "    <tr>\n",
       "      <th>33</th>\n",
       "      <td>Oct-20</td>\n",
       "      <td>84.14</td>\n",
       "      <td>84.190</td>\n",
       "    </tr>\n",
       "    <tr>\n",
       "      <th>30</th>\n",
       "      <td>Jul-20</td>\n",
       "      <td>83.62</td>\n",
       "      <td>83.670</td>\n",
       "    </tr>\n",
       "    <tr>\n",
       "      <th>29</th>\n",
       "      <td>Jun-20</td>\n",
       "      <td>75.52</td>\n",
       "      <td>83.630</td>\n",
       "    </tr>\n",
       "    <tr>\n",
       "      <th>10</th>\n",
       "      <td>Nov-18</td>\n",
       "      <td>75.71</td>\n",
       "      <td>82.510</td>\n",
       "    </tr>\n",
       "    <tr>\n",
       "      <th>7</th>\n",
       "      <td>Aug-18</td>\n",
       "      <td>79.26</td>\n",
       "      <td>81.630</td>\n",
       "    </tr>\n",
       "    <tr>\n",
       "      <th>4</th>\n",
       "      <td>May-18</td>\n",
       "      <td>77.43</td>\n",
       "      <td>81.470</td>\n",
       "    </tr>\n",
       "    <tr>\n",
       "      <th>5</th>\n",
       "      <td>Jun-18</td>\n",
       "      <td>78.40</td>\n",
       "      <td>81.320</td>\n",
       "    </tr>\n",
       "    <tr>\n",
       "      <th>6</th>\n",
       "      <td>Jul-18</td>\n",
       "      <td>78.40</td>\n",
       "      <td>79.800</td>\n",
       "    </tr>\n",
       "    <tr>\n",
       "      <th>24</th>\n",
       "      <td>Jan-20</td>\n",
       "      <td>76.15</td>\n",
       "      <td>79.040</td>\n",
       "    </tr>\n",
       "    <tr>\n",
       "      <th>23</th>\n",
       "      <td>Dec-19</td>\n",
       "      <td>77.56</td>\n",
       "      <td>78.100</td>\n",
       "    </tr>\n",
       "    <tr>\n",
       "      <th>22</th>\n",
       "      <td>Nov-19</td>\n",
       "      <td>75.39</td>\n",
       "      <td>77.763</td>\n",
       "    </tr>\n",
       "    <tr>\n",
       "      <th>21</th>\n",
       "      <td>Oct-19</td>\n",
       "      <td>75.78</td>\n",
       "      <td>77.560</td>\n",
       "    </tr>\n",
       "    <tr>\n",
       "      <th>3</th>\n",
       "      <td>Apr-18</td>\n",
       "      <td>76.48</td>\n",
       "      <td>77.470</td>\n",
       "    </tr>\n",
       "    <tr>\n",
       "      <th>20</th>\n",
       "      <td>Sep-19</td>\n",
       "      <td>74.55</td>\n",
       "      <td>77.340</td>\n",
       "    </tr>\n",
       "    <tr>\n",
       "      <th>18</th>\n",
       "      <td>Jul-19</td>\n",
       "      <td>73.18</td>\n",
       "      <td>76.290</td>\n",
       "    </tr>\n",
       "    <tr>\n",
       "      <th>2</th>\n",
       "      <td>Mar-18</td>\n",
       "      <td>74.21</td>\n",
       "      <td>76.290</td>\n",
       "    </tr>\n",
       "    <tr>\n",
       "      <th>1</th>\n",
       "      <td>Feb-18</td>\n",
       "      <td>74.14</td>\n",
       "      <td>76.120</td>\n",
       "    </tr>\n",
       "    <tr>\n",
       "      <th>25</th>\n",
       "      <td>Feb-20</td>\n",
       "      <td>74.64</td>\n",
       "      <td>76.010</td>\n",
       "    </tr>\n",
       "    <tr>\n",
       "      <th>15</th>\n",
       "      <td>Apr-19</td>\n",
       "      <td>75.61</td>\n",
       "      <td>75.960</td>\n",
       "    </tr>\n",
       "    <tr>\n",
       "      <th>16</th>\n",
       "      <td>May-19</td>\n",
       "      <td>73.69</td>\n",
       "      <td>75.900</td>\n",
       "    </tr>\n",
       "    <tr>\n",
       "      <th>28</th>\n",
       "      <td>May-20</td>\n",
       "      <td>72.28</td>\n",
       "      <td>75.780</td>\n",
       "    </tr>\n",
       "    <tr>\n",
       "      <th>19</th>\n",
       "      <td>Aug-19</td>\n",
       "      <td>74.59</td>\n",
       "      <td>75.650</td>\n",
       "    </tr>\n",
       "    <tr>\n",
       "      <th>14</th>\n",
       "      <td>Mar-19</td>\n",
       "      <td>74.54</td>\n",
       "      <td>75.650</td>\n",
       "    </tr>\n",
       "    <tr>\n",
       "      <th>0</th>\n",
       "      <td>Jan-18</td>\n",
       "      <td>72.53</td>\n",
       "      <td>75.630</td>\n",
       "    </tr>\n",
       "    <tr>\n",
       "      <th>11</th>\n",
       "      <td>Dec-18</td>\n",
       "      <td>71.38</td>\n",
       "      <td>75.340</td>\n",
       "    </tr>\n",
       "    <tr>\n",
       "      <th>26</th>\n",
       "      <td>Mar-20</td>\n",
       "      <td>72.26</td>\n",
       "      <td>74.790</td>\n",
       "    </tr>\n",
       "    <tr>\n",
       "      <th>13</th>\n",
       "      <td>Feb-19</td>\n",
       "      <td>72.94</td>\n",
       "      <td>74.430</td>\n",
       "    </tr>\n",
       "    <tr>\n",
       "      <th>17</th>\n",
       "      <td>Jun-19</td>\n",
       "      <td>72.61</td>\n",
       "      <td>74.390</td>\n",
       "    </tr>\n",
       "    <tr>\n",
       "      <th>12</th>\n",
       "      <td>Jan-19</td>\n",
       "      <td>71.05</td>\n",
       "      <td>74.030</td>\n",
       "    </tr>\n",
       "    <tr>\n",
       "      <th>27</th>\n",
       "      <td>Apr-20</td>\n",
       "      <td>72.26</td>\n",
       "      <td>72.370</td>\n",
       "    </tr>\n",
       "  </tbody>\n",
       "</table>\n",
       "</div>"
      ],
      "text/plain": [
       "   Month-Year  Lowest  Highest\n",
       "9      Oct-18   82.70   87.390\n",
       "8      Sep-18   81.81   86.800\n",
       "35     Dec-20   85.31   86.510\n",
       "34     Nov-20   84.14   85.310\n",
       "32     Sep-20   84.14   85.090\n",
       "31     Aug-20   83.62   85.050\n",
       "33     Oct-20   84.14   84.190\n",
       "30     Jul-20   83.62   83.670\n",
       "29     Jun-20   75.52   83.630\n",
       "10     Nov-18   75.71   82.510\n",
       "7      Aug-18   79.26   81.630\n",
       "4      May-18   77.43   81.470\n",
       "5      Jun-18   78.40   81.320\n",
       "6      Jul-18   78.40   79.800\n",
       "24     Jan-20   76.15   79.040\n",
       "23     Dec-19   77.56   78.100\n",
       "22     Nov-19   75.39   77.763\n",
       "21     Oct-19   75.78   77.560\n",
       "3      Apr-18   76.48   77.470\n",
       "20     Sep-19   74.55   77.340\n",
       "18     Jul-19   73.18   76.290\n",
       "2      Mar-18   74.21   76.290\n",
       "1      Feb-18   74.14   76.120\n",
       "25     Feb-20   74.64   76.010\n",
       "15     Apr-19   75.61   75.960\n",
       "16     May-19   73.69   75.900\n",
       "28     May-20   72.28   75.780\n",
       "19     Aug-19   74.59   75.650\n",
       "14     Mar-19   74.54   75.650\n",
       "0      Jan-18   72.53   75.630\n",
       "11     Dec-18   71.38   75.340\n",
       "26     Mar-20   72.26   74.790\n",
       "13     Feb-19   72.94   74.430\n",
       "17     Jun-19   72.61   74.390\n",
       "12     Jan-19   71.05   74.030\n",
       "27     Apr-20   72.26   72.370"
      ]
     },
     "execution_count": 11,
     "metadata": {},
     "output_type": "execute_result"
    }
   ],
   "source": [
    "p.sort_values(\"Highest\",ascending=False)"
   ]
  },
  {
   "cell_type": "markdown",
   "id": "6147a643",
   "metadata": {},
   "source": [
    "# Number of unique values in dataset"
   ]
  },
  {
   "cell_type": "code",
   "execution_count": 12,
   "id": "fb5c9a44",
   "metadata": {},
   "outputs": [
    {
     "data": {
      "text/plain": [
       "Month-Year    36\n",
       "Lowest        31\n",
       "Highest       34\n",
       "dtype: int64"
      ]
     },
     "execution_count": 12,
     "metadata": {},
     "output_type": "execute_result"
    }
   ],
   "source": [
    "p.nunique()"
   ]
  },
  {
   "cell_type": "markdown",
   "id": "2d2e1654",
   "metadata": {},
   "source": [
    "# Print unique number in the dataset of Highest"
   ]
  },
  {
   "cell_type": "code",
   "execution_count": 13,
   "id": "e146b218",
   "metadata": {},
   "outputs": [
    {
     "data": {
      "text/plain": [
       "array([75.63 , 76.12 , 76.29 , 77.47 , 81.47 , 81.32 , 79.8  , 81.63 ,\n",
       "       86.8  , 87.39 , 82.51 , 75.34 , 74.03 , 74.43 , 75.65 , 75.96 ,\n",
       "       75.9  , 74.39 , 77.34 , 77.56 , 77.763, 78.1  , 79.04 , 76.01 ,\n",
       "       74.79 , 72.37 , 75.78 , 83.63 , 83.67 , 85.05 , 85.09 , 84.19 ,\n",
       "       85.31 , 86.51 ])"
      ]
     },
     "execution_count": 13,
     "metadata": {},
     "output_type": "execute_result"
    }
   ],
   "source": [
    "p[\"Highest\"].unique()"
   ]
  },
  {
   "cell_type": "markdown",
   "id": "9b32851b",
   "metadata": {},
   "source": [
    "# To show the last 10 sorted values of the Month-year"
   ]
  },
  {
   "cell_type": "code",
   "execution_count": 14,
   "id": "b7e4fd23",
   "metadata": {},
   "outputs": [
    {
     "data": {
      "text/html": [
       "<div>\n",
       "<style scoped>\n",
       "    .dataframe tbody tr th:only-of-type {\n",
       "        vertical-align: middle;\n",
       "    }\n",
       "\n",
       "    .dataframe tbody tr th {\n",
       "        vertical-align: top;\n",
       "    }\n",
       "\n",
       "    .dataframe thead th {\n",
       "        text-align: right;\n",
       "    }\n",
       "</style>\n",
       "<table border=\"1\" class=\"dataframe\">\n",
       "  <thead>\n",
       "    <tr style=\"text-align: right;\">\n",
       "      <th></th>\n",
       "      <th>Month-Year</th>\n",
       "      <th>Lowest</th>\n",
       "      <th>Highest</th>\n",
       "    </tr>\n",
       "  </thead>\n",
       "  <tbody>\n",
       "    <tr>\n",
       "      <th>28</th>\n",
       "      <td>May-20</td>\n",
       "      <td>72.28</td>\n",
       "      <td>75.780</td>\n",
       "    </tr>\n",
       "    <tr>\n",
       "      <th>10</th>\n",
       "      <td>Nov-18</td>\n",
       "      <td>75.71</td>\n",
       "      <td>82.510</td>\n",
       "    </tr>\n",
       "    <tr>\n",
       "      <th>22</th>\n",
       "      <td>Nov-19</td>\n",
       "      <td>75.39</td>\n",
       "      <td>77.763</td>\n",
       "    </tr>\n",
       "    <tr>\n",
       "      <th>34</th>\n",
       "      <td>Nov-20</td>\n",
       "      <td>84.14</td>\n",
       "      <td>85.310</td>\n",
       "    </tr>\n",
       "    <tr>\n",
       "      <th>9</th>\n",
       "      <td>Oct-18</td>\n",
       "      <td>82.70</td>\n",
       "      <td>87.390</td>\n",
       "    </tr>\n",
       "    <tr>\n",
       "      <th>21</th>\n",
       "      <td>Oct-19</td>\n",
       "      <td>75.78</td>\n",
       "      <td>77.560</td>\n",
       "    </tr>\n",
       "    <tr>\n",
       "      <th>33</th>\n",
       "      <td>Oct-20</td>\n",
       "      <td>84.14</td>\n",
       "      <td>84.190</td>\n",
       "    </tr>\n",
       "    <tr>\n",
       "      <th>8</th>\n",
       "      <td>Sep-18</td>\n",
       "      <td>81.81</td>\n",
       "      <td>86.800</td>\n",
       "    </tr>\n",
       "    <tr>\n",
       "      <th>20</th>\n",
       "      <td>Sep-19</td>\n",
       "      <td>74.55</td>\n",
       "      <td>77.340</td>\n",
       "    </tr>\n",
       "    <tr>\n",
       "      <th>32</th>\n",
       "      <td>Sep-20</td>\n",
       "      <td>84.14</td>\n",
       "      <td>85.090</td>\n",
       "    </tr>\n",
       "  </tbody>\n",
       "</table>\n",
       "</div>"
      ],
      "text/plain": [
       "   Month-Year  Lowest  Highest\n",
       "28     May-20   72.28   75.780\n",
       "10     Nov-18   75.71   82.510\n",
       "22     Nov-19   75.39   77.763\n",
       "34     Nov-20   84.14   85.310\n",
       "9      Oct-18   82.70   87.390\n",
       "21     Oct-19   75.78   77.560\n",
       "33     Oct-20   84.14   84.190\n",
       "8      Sep-18   81.81   86.800\n",
       "20     Sep-19   74.55   77.340\n",
       "32     Sep-20   84.14   85.090"
      ]
     },
     "execution_count": 14,
     "metadata": {},
     "output_type": "execute_result"
    }
   ],
   "source": [
    "p.sort_values(\"Month-Year\").tail(10)"
   ]
  },
  {
   "cell_type": "markdown",
   "id": "442c6a32",
   "metadata": {},
   "source": [
    "# grouping of Month-year & Highest"
   ]
  },
  {
   "cell_type": "code",
   "execution_count": 15,
   "id": "ea9f9f54",
   "metadata": {},
   "outputs": [
    {
     "data": {
      "text/html": [
       "<div>\n",
       "<style scoped>\n",
       "    .dataframe tbody tr th:only-of-type {\n",
       "        vertical-align: middle;\n",
       "    }\n",
       "\n",
       "    .dataframe tbody tr th {\n",
       "        vertical-align: top;\n",
       "    }\n",
       "\n",
       "    .dataframe thead th {\n",
       "        text-align: right;\n",
       "    }\n",
       "</style>\n",
       "<table border=\"1\" class=\"dataframe\">\n",
       "  <thead>\n",
       "    <tr style=\"text-align: right;\">\n",
       "      <th></th>\n",
       "      <th>Highest</th>\n",
       "    </tr>\n",
       "    <tr>\n",
       "      <th>Month-Year</th>\n",
       "      <th></th>\n",
       "    </tr>\n",
       "  </thead>\n",
       "  <tbody>\n",
       "    <tr>\n",
       "      <th>Apr-18</th>\n",
       "      <td>77.470</td>\n",
       "    </tr>\n",
       "    <tr>\n",
       "      <th>Apr-19</th>\n",
       "      <td>75.960</td>\n",
       "    </tr>\n",
       "    <tr>\n",
       "      <th>Apr-20</th>\n",
       "      <td>72.370</td>\n",
       "    </tr>\n",
       "    <tr>\n",
       "      <th>Aug-18</th>\n",
       "      <td>81.630</td>\n",
       "    </tr>\n",
       "    <tr>\n",
       "      <th>Aug-19</th>\n",
       "      <td>75.650</td>\n",
       "    </tr>\n",
       "    <tr>\n",
       "      <th>Aug-20</th>\n",
       "      <td>85.050</td>\n",
       "    </tr>\n",
       "    <tr>\n",
       "      <th>Dec-18</th>\n",
       "      <td>75.340</td>\n",
       "    </tr>\n",
       "    <tr>\n",
       "      <th>Dec-19</th>\n",
       "      <td>78.100</td>\n",
       "    </tr>\n",
       "    <tr>\n",
       "      <th>Dec-20</th>\n",
       "      <td>86.510</td>\n",
       "    </tr>\n",
       "    <tr>\n",
       "      <th>Feb-18</th>\n",
       "      <td>76.120</td>\n",
       "    </tr>\n",
       "    <tr>\n",
       "      <th>Feb-19</th>\n",
       "      <td>74.430</td>\n",
       "    </tr>\n",
       "    <tr>\n",
       "      <th>Feb-20</th>\n",
       "      <td>76.010</td>\n",
       "    </tr>\n",
       "    <tr>\n",
       "      <th>Jan-18</th>\n",
       "      <td>75.630</td>\n",
       "    </tr>\n",
       "    <tr>\n",
       "      <th>Jan-19</th>\n",
       "      <td>74.030</td>\n",
       "    </tr>\n",
       "    <tr>\n",
       "      <th>Jan-20</th>\n",
       "      <td>79.040</td>\n",
       "    </tr>\n",
       "    <tr>\n",
       "      <th>Jul-18</th>\n",
       "      <td>79.800</td>\n",
       "    </tr>\n",
       "    <tr>\n",
       "      <th>Jul-19</th>\n",
       "      <td>76.290</td>\n",
       "    </tr>\n",
       "    <tr>\n",
       "      <th>Jul-20</th>\n",
       "      <td>83.670</td>\n",
       "    </tr>\n",
       "    <tr>\n",
       "      <th>Jun-18</th>\n",
       "      <td>81.320</td>\n",
       "    </tr>\n",
       "    <tr>\n",
       "      <th>Jun-19</th>\n",
       "      <td>74.390</td>\n",
       "    </tr>\n",
       "    <tr>\n",
       "      <th>Jun-20</th>\n",
       "      <td>83.630</td>\n",
       "    </tr>\n",
       "    <tr>\n",
       "      <th>Mar-18</th>\n",
       "      <td>76.290</td>\n",
       "    </tr>\n",
       "    <tr>\n",
       "      <th>Mar-19</th>\n",
       "      <td>75.650</td>\n",
       "    </tr>\n",
       "    <tr>\n",
       "      <th>Mar-20</th>\n",
       "      <td>74.790</td>\n",
       "    </tr>\n",
       "    <tr>\n",
       "      <th>May-18</th>\n",
       "      <td>81.470</td>\n",
       "    </tr>\n",
       "    <tr>\n",
       "      <th>May-19</th>\n",
       "      <td>75.900</td>\n",
       "    </tr>\n",
       "    <tr>\n",
       "      <th>May-20</th>\n",
       "      <td>75.780</td>\n",
       "    </tr>\n",
       "    <tr>\n",
       "      <th>Nov-18</th>\n",
       "      <td>82.510</td>\n",
       "    </tr>\n",
       "    <tr>\n",
       "      <th>Nov-19</th>\n",
       "      <td>77.763</td>\n",
       "    </tr>\n",
       "    <tr>\n",
       "      <th>Nov-20</th>\n",
       "      <td>85.310</td>\n",
       "    </tr>\n",
       "    <tr>\n",
       "      <th>Oct-18</th>\n",
       "      <td>87.390</td>\n",
       "    </tr>\n",
       "    <tr>\n",
       "      <th>Oct-19</th>\n",
       "      <td>77.560</td>\n",
       "    </tr>\n",
       "    <tr>\n",
       "      <th>Oct-20</th>\n",
       "      <td>84.190</td>\n",
       "    </tr>\n",
       "    <tr>\n",
       "      <th>Sep-18</th>\n",
       "      <td>86.800</td>\n",
       "    </tr>\n",
       "    <tr>\n",
       "      <th>Sep-19</th>\n",
       "      <td>77.340</td>\n",
       "    </tr>\n",
       "    <tr>\n",
       "      <th>Sep-20</th>\n",
       "      <td>85.090</td>\n",
       "    </tr>\n",
       "  </tbody>\n",
       "</table>\n",
       "</div>"
      ],
      "text/plain": [
       "            Highest\n",
       "Month-Year         \n",
       "Apr-18       77.470\n",
       "Apr-19       75.960\n",
       "Apr-20       72.370\n",
       "Aug-18       81.630\n",
       "Aug-19       75.650\n",
       "Aug-20       85.050\n",
       "Dec-18       75.340\n",
       "Dec-19       78.100\n",
       "Dec-20       86.510\n",
       "Feb-18       76.120\n",
       "Feb-19       74.430\n",
       "Feb-20       76.010\n",
       "Jan-18       75.630\n",
       "Jan-19       74.030\n",
       "Jan-20       79.040\n",
       "Jul-18       79.800\n",
       "Jul-19       76.290\n",
       "Jul-20       83.670\n",
       "Jun-18       81.320\n",
       "Jun-19       74.390\n",
       "Jun-20       83.630\n",
       "Mar-18       76.290\n",
       "Mar-19       75.650\n",
       "Mar-20       74.790\n",
       "May-18       81.470\n",
       "May-19       75.900\n",
       "May-20       75.780\n",
       "Nov-18       82.510\n",
       "Nov-19       77.763\n",
       "Nov-20       85.310\n",
       "Oct-18       87.390\n",
       "Oct-19       77.560\n",
       "Oct-20       84.190\n",
       "Sep-18       86.800\n",
       "Sep-19       77.340\n",
       "Sep-20       85.090"
      ]
     },
     "execution_count": 15,
     "metadata": {},
     "output_type": "execute_result"
    }
   ],
   "source": [
    "p.groupby(['Month-Year']).agg({'Highest':'sum'})"
   ]
  },
  {
   "cell_type": "markdown",
   "id": "8ee89f91",
   "metadata": {},
   "source": [
    "# To print randon data"
   ]
  },
  {
   "cell_type": "code",
   "execution_count": 16,
   "id": "711a00aa",
   "metadata": {},
   "outputs": [
    {
     "data": {
      "text/html": [
       "<div>\n",
       "<style scoped>\n",
       "    .dataframe tbody tr th:only-of-type {\n",
       "        vertical-align: middle;\n",
       "    }\n",
       "\n",
       "    .dataframe tbody tr th {\n",
       "        vertical-align: top;\n",
       "    }\n",
       "\n",
       "    .dataframe thead th {\n",
       "        text-align: right;\n",
       "    }\n",
       "</style>\n",
       "<table border=\"1\" class=\"dataframe\">\n",
       "  <thead>\n",
       "    <tr style=\"text-align: right;\">\n",
       "      <th></th>\n",
       "      <th>Month-Year</th>\n",
       "      <th>Lowest</th>\n",
       "      <th>Highest</th>\n",
       "    </tr>\n",
       "  </thead>\n",
       "  <tbody>\n",
       "    <tr>\n",
       "      <th>13</th>\n",
       "      <td>Feb-19</td>\n",
       "      <td>72.94</td>\n",
       "      <td>74.43</td>\n",
       "    </tr>\n",
       "    <tr>\n",
       "      <th>35</th>\n",
       "      <td>Dec-20</td>\n",
       "      <td>85.31</td>\n",
       "      <td>86.51</td>\n",
       "    </tr>\n",
       "    <tr>\n",
       "      <th>9</th>\n",
       "      <td>Oct-18</td>\n",
       "      <td>82.70</td>\n",
       "      <td>87.39</td>\n",
       "    </tr>\n",
       "    <tr>\n",
       "      <th>10</th>\n",
       "      <td>Nov-18</td>\n",
       "      <td>75.71</td>\n",
       "      <td>82.51</td>\n",
       "    </tr>\n",
       "    <tr>\n",
       "      <th>26</th>\n",
       "      <td>Mar-20</td>\n",
       "      <td>72.26</td>\n",
       "      <td>74.79</td>\n",
       "    </tr>\n",
       "  </tbody>\n",
       "</table>\n",
       "</div>"
      ],
      "text/plain": [
       "   Month-Year  Lowest  Highest\n",
       "13     Feb-19   72.94    74.43\n",
       "35     Dec-20   85.31    86.51\n",
       "9      Oct-18   82.70    87.39\n",
       "10     Nov-18   75.71    82.51\n",
       "26     Mar-20   72.26    74.79"
      ]
     },
     "execution_count": 16,
     "metadata": {},
     "output_type": "execute_result"
    }
   ],
   "source": [
    "p.sample(5)"
   ]
  },
  {
   "cell_type": "markdown",
   "id": "432dfe26",
   "metadata": {},
   "source": [
    "# Data Vizualisation"
   ]
  },
  {
   "cell_type": "markdown",
   "id": "b533a5a5",
   "metadata": {},
   "source": [
    "# pie chart of petrol prize"
   ]
  },
  {
   "cell_type": "code",
   "execution_count": 17,
   "id": "5ccd557b",
   "metadata": {},
   "outputs": [
    {
     "data": {
      "image/png": "[encoded data removed]",
      "text/plain": [
       "<Figure size 432x288 with 1 Axes>"
      ]
     },
     "metadata": {},
     "output_type": "display_data"
    }
   ],
   "source": [
    "y = np.array([0,20,40])\n",
    "l= [\"Month-Year\", \"Lowest\", \"Highest\"]\n",
    "c = ['r', 'b', 'g','k']\n",
    "\n",
    "plt.pie(y,labels=l, startangle=90, shadow=True, colors=c, explode=(0,0.5,0))\n",
    "plt.legend(loc='lower right', title='Petrol prize')\n",
    "plt.show()"
   ]
  },
  {
   "cell_type": "markdown",
   "id": "1d22e8c4",
   "metadata": {},
   "source": [
    "# Bar graph of Highest  Vs  Lowest"
   ]
  },
  {
   "cell_type": "markdown",
   "id": "98246d14",
   "metadata": {},
   "source": [
    "##  It shows Highest petrol price in month-year wise"
   ]
  },
  {
   "cell_type": "code",
   "execution_count": 18,
   "id": "f36ad2e8",
   "metadata": {},
   "outputs": [
    {
     "data": {
      "image/png": "[encoded data removed]",
      "text/plain": [
       "<Figure size 720x1080 with 1 Axes>"
      ]
     },
     "metadata": {
      "needs_background": "light"
     },
     "output_type": "display_data"
    }
   ],
   "source": [
    "plt.figure(figsize=(10,15))\n",
    "plt.bar(p[\"Highest\"],p[\"Month-Year\"])\n",
    "plt.title(\"Petrol Highest price\",fontsize=15,color=\"red\")\n",
    "plt.xlabel(\"Highest\",fontsize=15)\n",
    "plt.ylabel(\"Month-Year\",fontsize=15)\n",
    "plt.grid(True)\n",
    "plt.show()"
   ]
  },
  {
   "cell_type": "markdown",
   "id": "75ebad7e",
   "metadata": {},
   "source": [
    "# Highest prices using count plot & set of colors ( palette)"
   ]
  },
  {
   "cell_type": "markdown",
   "id": "2c4703e2",
   "metadata": {},
   "source": [
    "##  It shows Highest petrol price using countplot by different colors"
   ]
  },
  {
   "cell_type": "code",
   "execution_count": 19,
   "id": "41bb4e06",
   "metadata": {},
   "outputs": [
    {
     "data": {
      "image/png": "[encoded data removed]",
      "text/plain": [
       "<Figure size 360x720 with 1 Axes>"
      ]
     },
     "metadata": {
      "needs_background": "light"
     },
     "output_type": "display_data"
    }
   ],
   "source": [
    "plt.figure(figsize=(5,10))\n",
    "sns.countplot(y='Highest', data=p, palette='tab10')\n",
    "plt.show()"
   ]
  },
  {
   "cell_type": "markdown",
   "id": "f2345962",
   "metadata": {},
   "source": [
    "# pie chart of Month-Year"
   ]
  },
  {
   "cell_type": "code",
   "execution_count": 20,
   "id": "016ecfce",
   "metadata": {},
   "outputs": [
    {
     "data": {
      "image/png": "[encoded data removed]",
      "text/plain": [
       "<Figure size 1080x720 with 1 Axes>"
      ]
     },
     "metadata": {},
     "output_type": "display_data"
    }
   ],
   "source": [
    "plt.figure(figsize=(15,10))\n",
    "plt.title('Month-Year', fontsize=20)\n",
    "p['Month-Year'].value_counts().plot.pie(autopct='%1.1f%%')\n",
    "plt.show()"
   ]
  },
  {
   "cell_type": "markdown",
   "id": "16e6af14",
   "metadata": {},
   "source": [
    "# grouping Highest Vs Lowest on the basis of Month-year"
   ]
  },
  {
   "cell_type": "markdown",
   "id": "dab6defc",
   "metadata": {},
   "source": [
    "## According to month-year wise grouping highest & lowest petrol price.\n",
    "## red color indicates highest price & yellow color indicates lowest price"
   ]
  },
  {
   "cell_type": "code",
   "execution_count": 21,
   "id": "d58e17a3",
   "metadata": {},
   "outputs": [
    {
     "data": {
      "image/png": "[encoded data removed]",
      "text/plain": [
       "<Figure size 576x360 with 1 Axes>"
      ]
     },
     "metadata": {
      "needs_background": "light"
     },
     "output_type": "display_data"
    }
   ],
   "source": [
    "p.groupby('Month-Year')[['Highest','Lowest']].sum().plot.bar(color=['red','yellow'], figsize=(8,5))\n",
    "plt.ylabel('Highest/Lowest')\n",
    "plt.show()"
   ]
  },
  {
   "cell_type": "markdown",
   "id": "8f29c3bc",
   "metadata": {},
   "source": [
    "# Seaborn"
   ]
  },
  {
   "cell_type": "markdown",
   "id": "e3b78142",
   "metadata": {},
   "source": [
    "# Scatter plot of highest  Vs  lowest"
   ]
  },
  {
   "cell_type": "markdown",
   "id": "4f6eb4c1",
   "metadata": {},
   "source": [
    "##  we can analyse the relationship between highest & lowest petrol price"
   ]
  },
  {
   "cell_type": "code",
   "execution_count": 45,
   "id": "f16e0f63",
   "metadata": {},
   "outputs": [
    {
     "data": {
      "text/plain": [
       "<AxesSubplot:xlabel='Highest', ylabel='Lowest'>"
      ]
     },
     "execution_count": 45,
     "metadata": {},
     "output_type": "execute_result"
    },
    {
     "data": {
      "image/png": "[encoded data removed]",
      "text/plain": [
       "<Figure size 432x288 with 1 Axes>"
      ]
     },
     "metadata": {
      "needs_background": "light"
     },
     "output_type": "display_data"
    }
   ],
   "source": [
    "sns.scatterplot(x='Highest', y='Lowest', data=p)"
   ]
  },
  {
   "cell_type": "markdown",
   "id": "50cc513d",
   "metadata": {},
   "source": [
    "# kde plot of highest petrol price\n",
    "\n",
    "it shows the probability density of continous variable"
   ]
  },
  {
   "cell_type": "code",
   "execution_count": 25,
   "id": "3c1d672c",
   "metadata": {},
   "outputs": [
    {
     "data": {
      "image/png": "[encoded data removed]",
      "text/plain": [
       "<Figure size 432x288 with 1 Axes>"
      ]
     },
     "metadata": {
      "needs_background": "light"
     },
     "output_type": "display_data"
    }
   ],
   "source": [
    "sns.kdeplot(p[\"Highest\"])\n",
    "plt.show()"
   ]
  },
  {
   "cell_type": "markdown",
   "id": "63051b93",
   "metadata": {},
   "source": [
    "# pair plot of petrol price"
   ]
  },
  {
   "cell_type": "markdown",
   "id": "5d2c48cd",
   "metadata": {},
   "source": [
    "##  in this plot it shows the highest & lowest petrol price using dot and bar graph"
   ]
  },
  {
   "cell_type": "code",
   "execution_count": 26,
   "id": "adc04e5a",
   "metadata": {},
   "outputs": [
    {
     "data": {
      "image/png": "[encoded data removed]",
      "text/plain": [
       "<Figure size 360x360 with 6 Axes>"
      ]
     },
     "metadata": {
      "needs_background": "light"
     },
     "output_type": "display_data"
    }
   ],
   "source": [
    "sns.pairplot(p)\n",
    "plt.show()"
   ]
  },
  {
   "cell_type": "markdown",
   "id": "0ed4fa91",
   "metadata": {},
   "source": [
    "# swarm plot highest petrol price"
   ]
  },
  {
   "cell_type": "code",
   "execution_count": 33,
   "id": "321f0884",
   "metadata": {},
   "outputs": [
    {
     "data": {
      "image/png": "[encoded data removed]",
      "text/plain": [
       "<Figure size 432x288 with 1 Axes>"
      ]
     },
     "metadata": {
      "needs_background": "light"
     },
     "output_type": "display_data"
    }
   ],
   "source": [
    "sns.swarmplot(p[\"Highest\"])\n",
    "plt.show()"
   ]
  },
  {
   "cell_type": "markdown",
   "id": "c521910f",
   "metadata": {},
   "source": [
    "# heat map of petrol price"
   ]
  },
  {
   "cell_type": "code",
   "execution_count": 34,
   "id": "2d2fac5f",
   "metadata": {},
   "outputs": [
    {
     "data": {
      "image/png": "[encoded data removed]",
      "text/plain": [
       "<Figure size 432x288 with 2 Axes>"
      ]
     },
     "metadata": {
      "needs_background": "light"
     },
     "output_type": "display_data"
    }
   ],
   "source": [
    "sns.heatmap(p.corr())\n",
    "plt.show()"
   ]
  },
  {
   "cell_type": "markdown",
   "id": "9407e52c",
   "metadata": {},
   "source": [
    "# distplot of highest petrol price"
   ]
  },
  {
   "cell_type": "markdown",
   "id": "70c3f792",
   "metadata": {},
   "source": [
    "##  It shows highest petrol price in kdeplot and always barplot "
   ]
  },
  {
   "cell_type": "code",
   "execution_count": 35,
   "id": "5718631f",
   "metadata": {},
   "outputs": [
    {
     "data": {
      "image/png": "[encoded data removed]",
      "text/plain": [
       "<Figure size 432x288 with 1 Axes>"
      ]
     },
     "metadata": {
      "needs_background": "light"
     },
     "output_type": "display_data"
    }
   ],
   "source": [
    "sns.distplot(p.Highest)\n",
    "plt.show()"
   ]
  },
  {
   "cell_type": "markdown",
   "id": "307b7e80",
   "metadata": {},
   "source": [
    "# displot of highest petrol price"
   ]
  },
  {
   "cell_type": "markdown",
   "id": "0b121032",
   "metadata": {},
   "source": [
    "##  It only shows the highest petrol price in bar graph without a single letter t (displot)"
   ]
  },
  {
   "cell_type": "code",
   "execution_count": 36,
   "id": "8f91ced8",
   "metadata": {},
   "outputs": [
    {
     "data": {
      "image/png": "[encoded data removed]",
      "text/plain": [
       "<Figure size 360x360 with 1 Axes>"
      ]
     },
     "metadata": {
      "needs_background": "light"
     },
     "output_type": "display_data"
    }
   ],
   "source": [
    "sns.displot(p.Highest)\n",
    "plt.show()"
   ]
  },
  {
   "cell_type": "markdown",
   "id": "00299273",
   "metadata": {},
   "source": [
    "# without bar graph using distplot"
   ]
  },
  {
   "cell_type": "code",
   "execution_count": 37,
   "id": "345a0f41",
   "metadata": {},
   "outputs": [
    {
     "data": {
      "image/png": "[encoded data removed]",
      "text/plain": [
       "<Figure size 432x288 with 1 Axes>"
      ]
     },
     "metadata": {
      "needs_background": "light"
     },
     "output_type": "display_data"
    }
   ],
   "source": [
    "sns.distplot(p.Highest, hist=False)\n",
    "plt.show()"
   ]
  },
  {
   "cell_type": "markdown",
   "id": "2e678a7d",
   "metadata": {},
   "source": [
    "# without kdeplot using dist plot"
   ]
  },
  {
   "cell_type": "code",
   "execution_count": 38,
   "id": "8dbf3319",
   "metadata": {},
   "outputs": [
    {
     "data": {
      "image/png": "[encoded data removed]",
      "text/plain": [
       "<Figure size 432x288 with 1 Axes>"
      ]
     },
     "metadata": {
      "needs_background": "light"
     },
     "output_type": "display_data"
    }
   ],
   "source": [
    "sns.distplot(p.Highest, kde=False)\n",
    "plt.show()"
   ]
  },
  {
   "cell_type": "markdown",
   "id": "8618e481",
   "metadata": {},
   "source": [
    "# drop string column"
   ]
  },
  {
   "cell_type": "code",
   "execution_count": 57,
   "id": "b80ab7e2",
   "metadata": {},
   "outputs": [],
   "source": [
    "p.drop('Month-Year',axis=1,inplace=True)"
   ]
  },
  {
   "cell_type": "code",
   "execution_count": 58,
   "id": "3949eeba",
   "metadata": {},
   "outputs": [
    {
     "data": {
      "text/html": [
       "<div>\n",
       "<style scoped>\n",
       "    .dataframe tbody tr th:only-of-type {\n",
       "        vertical-align: middle;\n",
       "    }\n",
       "\n",
       "    .dataframe tbody tr th {\n",
       "        vertical-align: top;\n",
       "    }\n",
       "\n",
       "    .dataframe thead th {\n",
       "        text-align: right;\n",
       "    }\n",
       "</style>\n",
       "<table border=\"1\" class=\"dataframe\">\n",
       "  <thead>\n",
       "    <tr style=\"text-align: right;\">\n",
       "      <th></th>\n",
       "      <th>Lowest</th>\n",
       "      <th>Highest</th>\n",
       "    </tr>\n",
       "  </thead>\n",
       "  <tbody>\n",
       "    <tr>\n",
       "      <th>0</th>\n",
       "      <td>72.53</td>\n",
       "      <td>75.630</td>\n",
       "    </tr>\n",
       "    <tr>\n",
       "      <th>1</th>\n",
       "      <td>74.14</td>\n",
       "      <td>76.120</td>\n",
       "    </tr>\n",
       "    <tr>\n",
       "      <th>2</th>\n",
       "      <td>74.21</td>\n",
       "      <td>76.290</td>\n",
       "    </tr>\n",
       "    <tr>\n",
       "      <th>3</th>\n",
       "      <td>76.48</td>\n",
       "      <td>77.470</td>\n",
       "    </tr>\n",
       "    <tr>\n",
       "      <th>4</th>\n",
       "      <td>77.43</td>\n",
       "      <td>81.470</td>\n",
       "    </tr>\n",
       "    <tr>\n",
       "      <th>5</th>\n",
       "      <td>78.40</td>\n",
       "      <td>81.320</td>\n",
       "    </tr>\n",
       "    <tr>\n",
       "      <th>6</th>\n",
       "      <td>78.40</td>\n",
       "      <td>79.800</td>\n",
       "    </tr>\n",
       "    <tr>\n",
       "      <th>7</th>\n",
       "      <td>79.26</td>\n",
       "      <td>81.630</td>\n",
       "    </tr>\n",
       "    <tr>\n",
       "      <th>8</th>\n",
       "      <td>81.81</td>\n",
       "      <td>86.800</td>\n",
       "    </tr>\n",
       "    <tr>\n",
       "      <th>9</th>\n",
       "      <td>82.70</td>\n",
       "      <td>87.390</td>\n",
       "    </tr>\n",
       "    <tr>\n",
       "      <th>10</th>\n",
       "      <td>75.71</td>\n",
       "      <td>82.510</td>\n",
       "    </tr>\n",
       "    <tr>\n",
       "      <th>11</th>\n",
       "      <td>71.38</td>\n",
       "      <td>75.340</td>\n",
       "    </tr>\n",
       "    <tr>\n",
       "      <th>12</th>\n",
       "      <td>71.05</td>\n",
       "      <td>74.030</td>\n",
       "    </tr>\n",
       "    <tr>\n",
       "      <th>13</th>\n",
       "      <td>72.94</td>\n",
       "      <td>74.430</td>\n",
       "    </tr>\n",
       "    <tr>\n",
       "      <th>14</th>\n",
       "      <td>74.54</td>\n",
       "      <td>75.650</td>\n",
       "    </tr>\n",
       "    <tr>\n",
       "      <th>15</th>\n",
       "      <td>75.61</td>\n",
       "      <td>75.960</td>\n",
       "    </tr>\n",
       "    <tr>\n",
       "      <th>16</th>\n",
       "      <td>73.69</td>\n",
       "      <td>75.900</td>\n",
       "    </tr>\n",
       "    <tr>\n",
       "      <th>17</th>\n",
       "      <td>72.61</td>\n",
       "      <td>74.390</td>\n",
       "    </tr>\n",
       "    <tr>\n",
       "      <th>18</th>\n",
       "      <td>73.18</td>\n",
       "      <td>76.290</td>\n",
       "    </tr>\n",
       "    <tr>\n",
       "      <th>19</th>\n",
       "      <td>74.59</td>\n",
       "      <td>75.650</td>\n",
       "    </tr>\n",
       "    <tr>\n",
       "      <th>20</th>\n",
       "      <td>74.55</td>\n",
       "      <td>77.340</td>\n",
       "    </tr>\n",
       "    <tr>\n",
       "      <th>21</th>\n",
       "      <td>75.78</td>\n",
       "      <td>77.560</td>\n",
       "    </tr>\n",
       "    <tr>\n",
       "      <th>22</th>\n",
       "      <td>75.39</td>\n",
       "      <td>77.763</td>\n",
       "    </tr>\n",
       "    <tr>\n",
       "      <th>23</th>\n",
       "      <td>77.56</td>\n",
       "      <td>78.100</td>\n",
       "    </tr>\n",
       "    <tr>\n",
       "      <th>24</th>\n",
       "      <td>76.15</td>\n",
       "      <td>79.040</td>\n",
       "    </tr>\n",
       "    <tr>\n",
       "      <th>25</th>\n",
       "      <td>74.64</td>\n",
       "      <td>76.010</td>\n",
       "    </tr>\n",
       "    <tr>\n",
       "      <th>26</th>\n",
       "      <td>72.26</td>\n",
       "      <td>74.790</td>\n",
       "    </tr>\n",
       "    <tr>\n",
       "      <th>27</th>\n",
       "      <td>72.26</td>\n",
       "      <td>72.370</td>\n",
       "    </tr>\n",
       "    <tr>\n",
       "      <th>28</th>\n",
       "      <td>72.28</td>\n",
       "      <td>75.780</td>\n",
       "    </tr>\n",
       "    <tr>\n",
       "      <th>29</th>\n",
       "      <td>75.52</td>\n",
       "      <td>83.630</td>\n",
       "    </tr>\n",
       "    <tr>\n",
       "      <th>30</th>\n",
       "      <td>83.62</td>\n",
       "      <td>83.670</td>\n",
       "    </tr>\n",
       "    <tr>\n",
       "      <th>31</th>\n",
       "      <td>83.62</td>\n",
       "      <td>85.050</td>\n",
       "    </tr>\n",
       "    <tr>\n",
       "      <th>32</th>\n",
       "      <td>84.14</td>\n",
       "      <td>85.090</td>\n",
       "    </tr>\n",
       "    <tr>\n",
       "      <th>33</th>\n",
       "      <td>84.14</td>\n",
       "      <td>84.190</td>\n",
       "    </tr>\n",
       "    <tr>\n",
       "      <th>34</th>\n",
       "      <td>84.14</td>\n",
       "      <td>85.310</td>\n",
       "    </tr>\n",
       "    <tr>\n",
       "      <th>35</th>\n",
       "      <td>85.31</td>\n",
       "      <td>86.510</td>\n",
       "    </tr>\n",
       "  </tbody>\n",
       "</table>\n",
       "</div>"
      ],
      "text/plain": [
       "    Lowest  Highest\n",
       "0    72.53   75.630\n",
       "1    74.14   76.120\n",
       "2    74.21   76.290\n",
       "3    76.48   77.470\n",
       "4    77.43   81.470\n",
       "5    78.40   81.320\n",
       "6    78.40   79.800\n",
       "7    79.26   81.630\n",
       "8    81.81   86.800\n",
       "9    82.70   87.390\n",
       "10   75.71   82.510\n",
       "11   71.38   75.340\n",
       "12   71.05   74.030\n",
       "13   72.94   74.430\n",
       "14   74.54   75.650\n",
       "15   75.61   75.960\n",
       "16   73.69   75.900\n",
       "17   72.61   74.390\n",
       "18   73.18   76.290\n",
       "19   74.59   75.650\n",
       "20   74.55   77.340\n",
       "21   75.78   77.560\n",
       "22   75.39   77.763\n",
       "23   77.56   78.100\n",
       "24   76.15   79.040\n",
       "25   74.64   76.010\n",
       "26   72.26   74.790\n",
       "27   72.26   72.370\n",
       "28   72.28   75.780\n",
       "29   75.52   83.630\n",
       "30   83.62   83.670\n",
       "31   83.62   85.050\n",
       "32   84.14   85.090\n",
       "33   84.14   84.190\n",
       "34   84.14   85.310\n",
       "35   85.31   86.510"
      ]
     },
     "execution_count": 58,
     "metadata": {},
     "output_type": "execute_result"
    }
   ],
   "source": [
    "p"
   ]
  },
  {
   "cell_type": "markdown",
   "id": "13919805",
   "metadata": {},
   "source": [
    "# Display the shape and first few elements of the data"
   ]
  },
  {
   "cell_type": "code",
   "execution_count": 59,
   "id": "44d404c3",
   "metadata": {},
   "outputs": [],
   "source": [
    "x = p.iloc[:,:-1].values\n",
    "y = p.iloc[:,1].values"
   ]
  },
  {
   "cell_type": "code",
   "execution_count": 60,
   "id": "8b88d6cf",
   "metadata": {},
   "outputs": [
    {
     "data": {
      "text/plain": [
       "array([[72.53],\n",
       "       [74.14],\n",
       "       [74.21],\n",
       "       [76.48],\n",
       "       [77.43],\n",
       "       [78.4 ],\n",
       "       [78.4 ],\n",
       "       [79.26],\n",
       "       [81.81],\n",
       "       [82.7 ],\n",
       "       [75.71],\n",
       "       [71.38],\n",
       "       [71.05],\n",
       "       [72.94],\n",
       "       [74.54],\n",
       "       [75.61],\n",
       "       [73.69],\n",
       "       [72.61],\n",
       "       [73.18],\n",
       "       [74.59],\n",
       "       [74.55],\n",
       "       [75.78],\n",
       "       [75.39],\n",
       "       [77.56],\n",
       "       [76.15],\n",
       "       [74.64],\n",
       "       [72.26],\n",
       "       [72.26],\n",
       "       [72.28],\n",
       "       [75.52],\n",
       "       [83.62],\n",
       "       [83.62],\n",
       "       [84.14],\n",
       "       [84.14],\n",
       "       [84.14],\n",
       "       [85.31]])"
      ]
     },
     "execution_count": 60,
     "metadata": {},
     "output_type": "execute_result"
    }
   ],
   "source": [
    "x"
   ]
  },
  {
   "cell_type": "code",
   "execution_count": 61,
   "id": "b30e5892",
   "metadata": {},
   "outputs": [
    {
     "data": {
      "text/plain": [
       "array([75.63 , 76.12 , 76.29 , 77.47 , 81.47 , 81.32 , 79.8  , 81.63 ,\n",
       "       86.8  , 87.39 , 82.51 , 75.34 , 74.03 , 74.43 , 75.65 , 75.96 ,\n",
       "       75.9  , 74.39 , 76.29 , 75.65 , 77.34 , 77.56 , 77.763, 78.1  ,\n",
       "       79.04 , 76.01 , 74.79 , 72.37 , 75.78 , 83.63 , 83.67 , 85.05 ,\n",
       "       85.09 , 84.19 , 85.31 , 86.51 ])"
      ]
     },
     "execution_count": 61,
     "metadata": {},
     "output_type": "execute_result"
    }
   ],
   "source": [
    "y"
   ]
  },
  {
   "cell_type": "markdown",
   "id": "7dc34dd1",
   "metadata": {},
   "source": [
    "# print first 5 records"
   ]
  },
  {
   "cell_type": "code",
   "execution_count": 62,
   "id": "04f05089",
   "metadata": {},
   "outputs": [
    {
     "name": "stdout",
     "output_type": "stream",
     "text": [
      "[[72.53]\n",
      " [74.14]\n",
      " [74.21]\n",
      " [76.48]\n",
      " [77.43]]\n"
     ]
    }
   ],
   "source": [
    "print(x[:5])"
   ]
  },
  {
   "cell_type": "code",
   "execution_count": 63,
   "id": "9805a32e",
   "metadata": {},
   "outputs": [
    {
     "name": "stdout",
     "output_type": "stream",
     "text": [
      "(36, 1)\n"
     ]
    }
   ],
   "source": [
    "print(x.shape)"
   ]
  },
  {
   "cell_type": "markdown",
   "id": "b83d7e24",
   "metadata": {},
   "source": [
    "# print first records of lowest petrol prices"
   ]
  },
  {
   "cell_type": "code",
   "execution_count": 64,
   "id": "2a96fa5a",
   "metadata": {},
   "outputs": [
    {
     "name": "stdout",
     "output_type": "stream",
     "text": [
      "[75.63 76.12 76.29 77.47 81.47]\n"
     ]
    }
   ],
   "source": [
    "print(y[:5])"
   ]
  },
  {
   "cell_type": "code",
   "execution_count": 65,
   "id": "25f2a363",
   "metadata": {},
   "outputs": [
    {
     "name": "stdout",
     "output_type": "stream",
     "text": [
      "(36,)\n"
     ]
    }
   ],
   "source": [
    "print(y.shape)"
   ]
  },
  {
   "cell_type": "code",
   "execution_count": 66,
   "id": "3fa4623c",
   "metadata": {},
   "outputs": [],
   "source": [
    "from sklearn.model_selection import train_test_split"
   ]
  },
  {
   "cell_type": "markdown",
   "id": "558c6b54",
   "metadata": {},
   "source": [
    "# Perform the split"
   ]
  },
  {
   "cell_type": "code",
   "execution_count": 67,
   "id": "f8519d75",
   "metadata": {},
   "outputs": [],
   "source": [
    "x_train, x_test, y_train, y_test = train_test_split(x,y)"
   ]
  },
  {
   "cell_type": "code",
   "execution_count": 68,
   "id": "7073c74c",
   "metadata": {},
   "outputs": [
    {
     "name": "stdout",
     "output_type": "stream",
     "text": [
      "(27, 1)\n",
      "(9, 1)\n",
      "(27,)\n",
      "(9,)\n"
     ]
    }
   ],
   "source": [
    "print(x_train.shape)\n",
    "print(x_test.shape)\n",
    "print(y_train.shape)\n",
    "print(y_test.shape)"
   ]
  },
  {
   "cell_type": "markdown",
   "id": "05b49e73",
   "metadata": {},
   "source": [
    "# Specify the split size manually by specifying the parameter of test size"
   ]
  },
  {
   "cell_type": "code",
   "execution_count": 69,
   "id": "ad81907d",
   "metadata": {},
   "outputs": [],
   "source": [
    "x_train, x_test, y_train, y_test = train_test_split(x,y,test_size=0.1)"
   ]
  },
  {
   "cell_type": "code",
   "execution_count": 70,
   "id": "802fece9",
   "metadata": {},
   "outputs": [
    {
     "name": "stdout",
     "output_type": "stream",
     "text": [
      "(32, 1)\n",
      "(4, 1)\n",
      "(32,)\n",
      "(4,)\n"
     ]
    }
   ],
   "source": [
    "print(x_train.shape)\n",
    "print(x_test.shape)\n",
    "print(y_train.shape)\n",
    "print(y_test.shape)"
   ]
  },
  {
   "cell_type": "markdown",
   "id": "12b74654",
   "metadata": {},
   "source": [
    "# print the mean values"
   ]
  },
  {
   "cell_type": "code",
   "execution_count": 71,
   "id": "9c480df9",
   "metadata": {},
   "outputs": [
    {
     "name": "stdout",
     "output_type": "stream",
     "text": [
      "76.82\n",
      "75.945\n",
      "79.19134375\n",
      "78.03750000000001\n"
     ]
    }
   ],
   "source": [
    "print(np.mean(x_train))\n",
    "print(np.mean(x_test))\n",
    "print(np.mean(y_train))\n",
    "print(np.mean(y_test))"
   ]
  },
  {
   "cell_type": "code",
   "execution_count": 72,
   "id": "c63893de",
   "metadata": {},
   "outputs": [],
   "source": [
    "x_train, x_test, y_train, y_test = train_test_split(x,y,test_size=0.1,random_state=1)"
   ]
  },
  {
   "cell_type": "code",
   "execution_count": 73,
   "id": "fedc10de",
   "metadata": {},
   "outputs": [
    {
     "name": "stdout",
     "output_type": "stream",
     "text": [
      "76.421875\n",
      "79.13\n",
      "78.87634374999999\n",
      "80.5575\n"
     ]
    }
   ],
   "source": [
    "print(np.mean(x_train))\n",
    "print(np.mean(x_test))\n",
    "print(np.mean(y_train))\n",
    "print(np.mean(y_test))"
   ]
  },
  {
   "cell_type": "code",
   "execution_count": 74,
   "id": "1a1443a7",
   "metadata": {},
   "outputs": [
    {
     "name": "stdout",
     "output_type": "stream",
     "text": [
      "train test complete\n"
     ]
    }
   ],
   "source": [
    "from sklearn.linear_model import LinearRegression\n",
    "l = LinearRegression()\n",
    "l.fit(x_train, y_train)\n",
    "print('train test complete')"
   ]
  },
  {
   "cell_type": "code",
   "execution_count": 75,
   "id": "db10ce68",
   "metadata": {},
   "outputs": [],
   "source": [
    "y_pred = l.predict(x_test)"
   ]
  },
  {
   "cell_type": "code",
   "execution_count": 76,
   "id": "435349ac",
   "metadata": {},
   "outputs": [
    {
     "data": {
      "text/html": [
       "<div>\n",
       "<style scoped>\n",
       "    .dataframe tbody tr th:only-of-type {\n",
       "        vertical-align: middle;\n",
       "    }\n",
       "\n",
       "    .dataframe tbody tr th {\n",
       "        vertical-align: top;\n",
       "    }\n",
       "\n",
       "    .dataframe thead th {\n",
       "        text-align: right;\n",
       "    }\n",
       "</style>\n",
       "<table border=\"1\" class=\"dataframe\">\n",
       "  <thead>\n",
       "    <tr style=\"text-align: right;\">\n",
       "      <th></th>\n",
       "      <th>Actual</th>\n",
       "      <th>Predicted</th>\n",
       "    </tr>\n",
       "  </thead>\n",
       "  <tbody>\n",
       "    <tr>\n",
       "      <th>0</th>\n",
       "      <td>83.67</td>\n",
       "      <td>85.796642</td>\n",
       "    </tr>\n",
       "    <tr>\n",
       "      <th>1</th>\n",
       "      <td>85.31</td>\n",
       "      <td>86.296572</td>\n",
       "    </tr>\n",
       "    <tr>\n",
       "      <th>2</th>\n",
       "      <td>75.78</td>\n",
       "      <td>74.894333</td>\n",
       "    </tr>\n",
       "    <tr>\n",
       "      <th>3</th>\n",
       "      <td>77.47</td>\n",
       "      <td>78.932225</td>\n",
       "    </tr>\n",
       "  </tbody>\n",
       "</table>\n",
       "</div>"
      ],
      "text/plain": [
       "   Actual  Predicted\n",
       "0   83.67  85.796642\n",
       "1   85.31  86.296572\n",
       "2   75.78  74.894333\n",
       "3   77.47  78.932225"
      ]
     },
     "execution_count": 76,
     "metadata": {},
     "output_type": "execute_result"
    }
   ],
   "source": [
    "d1 = pd.DataFrame({'Actual':y_test, 'Predicted':y_pred})\n",
    "d1"
   ]
  },
  {
   "cell_type": "code",
   "execution_count": 77,
   "id": "39956e78",
   "metadata": {},
   "outputs": [
    {
     "name": "stdout",
     "output_type": "stream",
     "text": [
      "Mean Absolute Error 1.3652766709014656\n"
     ]
    }
   ],
   "source": [
    "from sklearn.metrics import mean_absolute_error\n",
    "print('Mean Absolute Error',mean_absolute_error(y_test, y_pred))"
   ]
  },
  {
   "cell_type": "markdown",
   "id": "4775d774",
   "metadata": {},
   "source": [
    "# Regression plot "
   ]
  },
  {
   "cell_type": "markdown",
   "id": "1325d967",
   "metadata": {},
   "source": [
    "##   it creates a regression line of petrol in highest price"
   ]
  },
  {
   "cell_type": "code",
   "execution_count": 82,
   "id": "85ed1efa",
   "metadata": {},
   "outputs": [
    {
     "data": {
      "image/png": "[encoded data removed]",
      "text/plain": [
       "<Figure size 432x288 with 1 Axes>"
      ]
     },
     "metadata": {
      "needs_background": "light"
     },
     "output_type": "display_data"
    }
   ],
   "source": [
    "sns.regplot(x = y_test, y = y_pred)\n",
    "plt.title('Regression Plot', size=15)\n",
    "plt.ylabel('Petrol ', size=12)\n",
    "plt.xlabel('Highest price', size=12)\n",
    "plt.show()"
   ]
  },
  {
   "cell_type": "code",
   "execution_count": null,
   "id": "a6f8c225",
   "metadata": {},
   "outputs": [],
   "source": []
  }
 ],
 "metadata": {
  "kernelspec": {
   "display_name": "Python 3",
   "language": "python",
   "name": "python3"
  },
  "language_info": {
   "codemirror_mode": {
    "name": "ipython",
    "version": 3
   },
   "file_extension": ".py",
   "mimetype": "text/x-python",
   "name": "python",
   "nbconvert_exporter": "python",
   "pygments_lexer": "ipython3",
   "version": "3.8.8"
  }
 },
 "nbformat": 4,
 "nbformat_minor": 5
}
